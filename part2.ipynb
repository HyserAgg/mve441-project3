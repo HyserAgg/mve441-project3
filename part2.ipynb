{
 "cells": [
  {
   "cell_type": "code",
   "execution_count": 15,
   "id": "5b5a49df-c57a-4f72-9343-ad14253ce1bb",
   "metadata": {},
   "outputs": [],
   "source": [
    "import matplotlib.pyplot as plt\n",
    "import numpy as np\n",
    "import pandas as pd\n",
    "\n",
    "from typing import Tuple\n",
    "from sklearn import preprocessing"
   ]
  },
  {
   "cell_type": "code",
   "execution_count": 43,
   "id": "fa77eea4-313e-4e78-8af0-e406fc03a4f1",
   "metadata": {},
   "outputs": [],
   "source": [
    "def load_data() -> Tuple[np.ndarray, np.ndarray]:\n",
    "    data = pd.read_csv(\"./data/data.csv\").drop([\"Unnamed: 0\"], axis=1)\n",
    "    labels = pd.read_csv(\"./data/labels.csv\")[\"Class\"]\n",
    "        \n",
    "    # Encodes string labels as ints\n",
    "    le = preprocessing.LabelEncoder()\n",
    "    y = le.fit_transform(labels)\n",
    "    \n",
    "    return data.to_numpy(), y\n",
    "X, y = load_data()"
   ]
  },
  {
   "cell_type": "markdown",
   "id": "841e1758-633a-4c7f-8794-9519de809f0b",
   "metadata": {},
   "source": [
    "# First feature reduction to reduce run time"
   ]
  },
  {
   "cell_type": "code",
   "execution_count": 81,
   "id": "345013f2-4673-4a36-9350-b687a61f21d3",
   "metadata": {},
   "outputs": [],
   "source": [
    "from sklearn.feature_selection import VarianceThreshold, SelectKBest, f_classif\n",
    "\n",
    "# Dropping the constant features\n",
    "X_nonconst = VarianceThreshold().fit_transform(X)\n",
    "\n",
    "# Doing feature selection by choosing the k features with the largest F-statistic\n",
    "k = 200\n",
    "X_fstat = SelectKBest(score_func=f_classif, k=k).fit_transform(X_nonconst, y)"
   ]
  },
  {
   "cell_type": "markdown",
   "id": "8b57059f-0d55-4ac8-9b4c-e9df77cc03ee",
   "metadata": {},
   "source": [
    "# Feature selection using multi-class logistic regression"
   ]
  },
  {
   "cell_type": "code",
   "execution_count": 399,
   "id": "fdbff9d3-702c-4e3a-98f0-73eef12371ab",
   "metadata": {},
   "outputs": [],
   "source": [
    "from sklearn.linear_model import LogisticRegressionCV\n",
    "from sklearn.model_selection import StratifiedKFold\n",
    "from sklearn.metrics import balanced_accuracy_score as bacc\n",
    "\n",
    "def cross_validate(n_folds, C_list, X, y):\n",
    "    \"\"\"\n",
    "    Cross-validates the parameter values in C_list and\n",
    "    returns a numpy.ndarray where the first index corresponds to the\n",
    "    different values in C_list and the columns correspond\n",
    "    to the different folds. Each of the elements has the balanced\n",
    "    accuracy score for a given parameter value adn fold.\n",
    "    \"\"\"\n",
    "    score_matrix = np.zeros((len(C_list), n_folds))\n",
    "    skf = StratifiedKFold(n_splits=n_folds)\n",
    "    ix = 0\n",
    "    for train_idx, test_idx in skf.split(X, y):\n",
    "        X_train, X_test = X[train_idx], X[test_idx]\n",
    "        y_train, y_test = y[train_idx], y[test_idx]\n",
    "        \n",
    "        jx = 0\n",
    "        for val in C_list:\n",
    "            mdl = LogisticRegression(C=val,\n",
    "                                    multi_class='ovr', \n",
    "                                    solver='liblinear',\n",
    "                                    intercept_scaling=10000).fit(X_train, y_train)\n",
    "            y_pred = mdl.predict(X_test)\n",
    "            score_matrix[jx, ix] = bacc(y_test, y_pred)\n",
    "            \n",
    "            jx += 1\n",
    "        ix += 1\n",
    "        \n",
    "    return score_matrix"
   ]
  },
  {
   "cell_type": "code",
   "execution_count": 400,
   "id": "e27c888e-8810-4184-8836-956cb63b6e93",
   "metadata": {},
   "outputs": [],
   "source": [
    "n_folds = 10\n",
    "c_list = np.logspace(-4, 0, 100)\n",
    "\n",
    "score_matrix = cross_validate(n_folds, c_list, X_fstat, y)\n",
    "cv_mean = np.mean(score_matrix, axis=1)\n",
    "cv_std = np.std(score_matrix, axis=1)\n",
    "idx_max_mean = np.argmax( cv_mean )\n",
    "c_max = c_list[idx_max_mean]\n",
    "idx_c_1se = np.where(\n",
    "    (cv_mean >= cv_mean[idx_max_mean] - cv_std[idx_max_mean] / np.sqrt(n_folds)) &\n",
    "    (cv_mean <= cv_mean[idx_max_mean])\n",
    ")[0][0]\n",
    "c_1se = c_list[idx_c_1se]"
   ]
  },
  {
   "cell_type": "code",
   "execution_count": 426,
   "id": "cd8a3081-1fb7-40f9-95d7-33bcec687cf6",
   "metadata": {},
   "outputs": [
    {
     "data": {
      "text/plain": [
       "0.009545484566618348"
      ]
     },
     "execution_count": 426,
     "metadata": {},
     "output_type": "execute_result"
    }
   ],
   "source": [
    "c_max"
   ]
  },
  {
   "cell_type": "markdown",
   "id": "594a8c52-b6ae-41ee-b938-788893845972",
   "metadata": {},
   "source": [
    "# Gaining confidence in feature selection thorugh bootstrap"
   ]
  },
  {
   "cell_type": "code",
   "execution_count": 408,
   "id": "b9b54323-6a7a-4323-8398-8de348a09ff6",
   "metadata": {},
   "outputs": [
    {
     "data": {
      "text/plain": [
       "array([360., 382., 387., 390., 374., 393., 386., 372., 369., 387., 373.,\n",
       "       368., 368., 367., 377., 369., 374., 369., 376., 357., 365., 390.,\n",
       "       394., 376., 382., 374., 374., 361., 333., 364., 362., 384., 372.,\n",
       "       385., 377., 370., 381., 380., 365., 370., 382., 365., 353., 375.,\n",
       "       373., 375., 374., 365., 389., 373., 370., 365., 374., 364., 389.,\n",
       "       374., 372., 375., 361., 361., 374., 256., 329., 384., 390., 374.,\n",
       "       370., 368., 384., 366., 380., 381., 377., 385., 356., 377., 355.,\n",
       "       380., 368., 379., 369., 390., 384., 380., 372., 384., 372., 358.,\n",
       "       396., 369., 361., 360., 361., 399., 379., 373., 362., 381., 374.,\n",
       "       371., 375., 389., 378., 382., 374., 378., 379., 371., 366., 368.,\n",
       "       377., 369., 388., 377., 364., 384., 373., 395., 357., 363., 357.,\n",
       "       385., 384., 371., 374., 374., 385., 374., 370., 369., 373., 386.,\n",
       "       398., 390., 375., 391., 364., 370., 374., 385., 367., 381., 375.,\n",
       "       368., 387., 377., 368., 365., 377., 374., 363., 377., 369., 372.,\n",
       "       393., 357., 378., 381., 376., 387., 377., 387., 360., 373., 372.,\n",
       "       375., 380., 384., 374., 369., 384., 380., 375., 390., 366., 373.,\n",
       "       369., 374., 358., 363., 369., 373., 371., 354., 381., 367., 395.,\n",
       "       372., 376., 382., 376., 387., 375., 384., 392., 368., 382., 376.,\n",
       "       404., 367.])"
      ]
     },
     "execution_count": 408,
     "metadata": {},
     "output_type": "execute_result"
    },
    {
     "data": {
      "image/png": "[encoded data removed]",
      "text/plain": [
       "<Figure size 432x288 with 5 Axes>"
      ]
     },
     "metadata": {
      "needs_background": "light"
     },
     "output_type": "display_data"
    }
   ],
   "source": [
    "from sklearn.linear_model import LogisticRegression\n",
    "\n",
    "n_bootstrap_samples = 500\n",
    "sample_size = 150\n",
    "zero_tol = 0.0001\n",
    "\n",
    "# Creating bootstrap sample and records how often a given feature is \n",
    "# selected in the LogisticRegression for c_max.\n",
    "selected_feature_counters = { \n",
    "    0: np.zeros(k),\n",
    "    1: np.zeros(k),\n",
    "    2: np.zeros(k),\n",
    "    3: np.zeros(k),\n",
    "    4: np.zeros(k),\n",
    "}\n",
    "for ix in range(n_bootstrap_samples):\n",
    "    idx_list = np.random.choice(X_fstat.shape[1], sample_size, replace=False)\n",
    "    X_bootstrap = X_fstat[:,idx_list]Filter\n",
    "    beta = LogisticRegression(C=c_max*0.01,\n",
    "                             multi_class='ovr', \n",
    "                             solver='liblinear',\n",
    "                             intercept_scaling=10000).fit(X_bootstrap, y).coef_\n",
    "    \n",
    "    # Assumes that the beta arrays for the differen\n",
    "    # classes comes in the same order, and calculates\n",
    "    # the frequency with which every frequency is present\n",
    "    jx = 0\n",
    "    for class_beta in beta:\n",
    "        non_zero_idx = np.where( abs(class_beta) > zero_tol )\n",
    "        non_zero_feature_idx = idx_list[non_zero_idx]\n",
    "        for idx in non_zero_feature_idx:\n",
    "            selected_feature_counters[jx][idx] += 1\n",
    "        jx += 1\n",
    "        \n",
    "fig, (ax1, ax2, ax3, ax4, ax5) = plt.subplots(5, 1, sharex=True)\n",
    "ax1.bar(range(200), selected_feature_counters[0])\n",
    "ax1.set_title(\"feature 1\")\n",
    "\n",
    "ax2.bar(range(200), selected_feature_counters[1])\n",
    "ax2.set_title(\"feature 2\")\n",
    "\n",
    "ax3.bar(range(200), selected_feature_counters[2])\n",
    "ax3.set_title(\"feature 3\")\n",
    "\n",
    "ax4.bar(range(200), selected_feature_counters[3])\n",
    "ax4.set_title(\"feature 4\")\n",
    "\n",
    "ax5.bar(range(200), selected_feature_counters[4])    \n",
    "ax5.set_title(\"feature 5\")\n",
    "\n",
    "fig.tight_layout()\n",
    "selected_feature_counters[0]"
   ]
  },
  {
   "cell_type": "markdown",
   "id": "8f4f7f73-5509-4390-af38-a24ed7a3fce5",
   "metadata": {},
   "source": [
    "## Selection stability trhough selection frequency relative to bootstrap samples"
   ]
  },
  {
   "cell_type": "code",
   "execution_count": 424,
   "id": "de5531c5-2582-4475-a44d-70f374ae2ee0",
   "metadata": {},
   "outputs": [
    {
     "data": {
      "image/png": "[encoded data removed]",
      "text/plain": [
       "<Figure size 432x288 with 5 Axes>"
      ]
     },
     "metadata": {
      "needs_background": "light"
     },
     "output_type": "display_data"
    }
   ],
   "source": [
    "from sklearn.linear_model import LogisticRegression\n",
    "\n",
    "n_bootstrap_samples = 1000\n",
    "sample_size = 170\n",
    "zero_tol = 0\n",
    "\n",
    "# Creating bootstrap sample and records how often a given feature is \n",
    "# selected in the LogisticRegression for c_max.\n",
    "selected_feature_counters = [ \n",
    "    np.zeros(k),\n",
    "    np.zeros(k),\n",
    "    np.zeros(k),\n",
    "    np.zeros(k),\n",
    "    np.zeros(k),\n",
    "]\n",
    "avrg_abs_coefs = [ \n",
    "    np.zeros(k),\n",
    "    np.zeros(k),\n",
    "    np.zeros(k),\n",
    "    np.zeros(k),\n",
    "    np.zeros(k),\n",
    "]\n",
    "for ix in range(n_bootstrap_samples):\n",
    "    idx_list = np.random.choice(X_fstat.shape[1], sample_size, replace=False)\n",
    "    X_bootstrap = X_fstat[:,idx_list]\n",
    "    beta = LogisticRegression(C=c_max,\n",
    "                             multi_class='ovr', \n",
    "                             solver='liblinear',\n",
    "                             intercept_scaling=10000).fit(X_bootstrap, y).coef_\n",
    "    \n",
    "    # Assumes that the beta arrays for the differen\n",
    "    # classes comes in the same order, and calculates\n",
    "    # the frequency with which every feature is present\n",
    "    # as well as each coefficients avrage absolute value\n",
    "    # over every bootstrap sample\n",
    "    jx = 0\n",
    "    for class_beta in beta:\n",
    "        non_zero_idx = np.where( abs(class_beta) > zero_tol )\n",
    "        non_zero_feature_idx = idx_list[non_zero_idx]\n",
    "        for (feature_idx, coef_idx) in zip(non_zero_feature_idx, non_zero_idx[0]):\n",
    "            selected_feature_counters[jx][feature_idx] += 1\n",
    "            avrg_abs_coefs[jx][feature_idx] += abs(class_beta[coef_idx])/n_bootstrap_samples\n",
    "        jx += 1\n",
    "        \n",
    "# Selecting the 5 features that have the highest selection stability.\n",
    "# If multiple features are equally stable we chose the features with the larges\n",
    "# absolute value\n",
    "top5_stable_features = [ \n",
    "    np.zeros((5,2)),\n",
    "    np.zeros((5,2)),\n",
    "    np.zeros((5,2)),\n",
    "    np.zeros((5,2)),\n",
    "    np.zeros((5,2)),\n",
    "]\n",
    "ix = 0\n",
    "for ix in range(len(selected_feature_counters)):\n",
    "    # List containing tuples of (index, value)\n",
    "    idx_value_max_list = []  \n",
    "    \n",
    "    # Appends the largest value's index\n",
    "    # and sets the value to zero.\n",
    "    idx_max = np.argmax(selected_feature_counters[ix])\n",
    "    val_max = selected_feature_counters[ix][idx_max]\n",
    "    idx_value_max_list.append( (idx_max, val_max) )\n",
    "    selected_feature_counters[ix][idx_max] = 0\n",
    "    \n",
    "    # repats above until the five largest frequency features\n",
    "    # are saved. If two features have the same frequency we pick\n",
    "    # the one wih the largest avrage absolute value\n",
    "    while len(idx_value_max_list) < 5:\n",
    "        last_item = idx_value_max_list[len(idx_value_max_list)-1]\n",
    "        idx_max = np.argmax(selected_feature_counters[ix])\n",
    "        val_max = selected_feature_counters[ix][idx_max]\n",
    "        if last_item[1] == val_max and avrg_abs_coefs[ix][last_item[0]] > avrg_abs_coefs[ix][idx_max]:\n",
    "            # If frequeny is equal and current entry has larger avrage\n",
    "            # absolute value coefficient we append it set that frequency \n",
    "            # to zero in selected_feature_counters\n",
    "            idx_value_max_list.append( (idx_max, val_max) )\n",
    "            selected_feature_counters[ix][idx_max] = 0            \n",
    "        elif last_item[1] == val_max and avrg_abs_coefs[ix][last_item[0]] < avrg_abs_coefs[ix][idx_max]:\n",
    "            # If frequeny is equal and current entry has smaller avrage\n",
    "            # absolute value coefficient we replace it by the new element\n",
    "            # and set that frequency to zero in selected_feature_counters\n",
    "            idx_value_max_list[len(idx_value_max_list)-1] = (idx_max, val_max)\n",
    "            selected_feature_counters[ix][idx_max] = 0\n",
    "        else:\n",
    "            idx_value_max_list.append( (idx_max, val_max) )\n",
    "            selected_feature_counters[ix][idx_max] = 0      \n",
    "    top5_stable_features[ix] = idx_value_max_list\n",
    "    ix += 1 \n",
    "\n",
    "fig, (ax1, ax2, ax3, ax4, ax5) = plt.subplots(5, 1, sharex=True)\n",
    "ax1.set_title(\"Class 1\")\n",
    "ax1.bar(range(200), selected_feature_counters[0])\n",
    "for elem in top5_stable_features[0]:\n",
    "    ax1.bar(elem[0], elem[1], color=\"red\")\n",
    "\n",
    "ax2.set_title(\"Class 2\")\n",
    "ax2.bar(range(200), selected_feature_counters[1])\n",
    "for elem in top5_stable_features[1]:\n",
    "    ax2.bar(elem[0], elem[1], color=\"red\")\n",
    "\n",
    "ax3.set_title(\"Class 3\")\n",
    "ax3.bar(range(200), selected_feature_counters[2])\n",
    "for elem in top5_stable_features[2]:\n",
    "    ax3.bar(elem[0], elem[1], color=\"red\")\n",
    "\n",
    "ax4.set_title(\"Class 4\")\n",
    "ax4.bar(range(200), selected_feature_counters[3])\n",
    "for elem in top5_stable_features[3]:\n",
    "    ax4.bar(elem[0], elem[1], color=\"red\")\n",
    "\n",
    "ax5.set_title(\"Class 5\")\n",
    "ax5.bar(range(200), selected_feature_counters[4])\n",
    "for elem in top5_stable_features[4]:\n",
    "    ax5.bar(elem[0], elem[1], color=\"red\")\n",
    "\n",
    "fig.tight_layout()\n",
    "fig.savefig(\"feature_selection_histogram.png\")"
   ]
  },
  {
   "cell_type": "code",
   "execution_count": 425,
   "id": "f7f37cb0-3e6e-407f-b094-3fbe72412b2f",
   "metadata": {},
   "outputs": [
    {
     "data": {
      "text/plain": [
       "[[(58, 875.0), (89, 875.0), (157, 873.0), (151, 872.0), (111, 871.0)],\n",
       " [(89, 875.0), (157, 873.0), (151, 872.0), (116, 871.0), (142, 870.0)],\n",
       " [(89, 875.0), (157, 873.0), (52, 872.0), (151, 872.0), (111, 871.0)],\n",
       " [(58, 875.0), (89, 875.0), (100, 873.0), (157, 873.0), (52, 872.0)],\n",
       " [(89, 875.0), (100, 873.0), (157, 873.0), (151, 872.0), (111, 871.0)]]"
      ]
     },
     "execution_count": 425,
     "metadata": {},
     "output_type": "execute_result"
    }
   ],
   "source": [
    "top5_stable_features"
   ]
  },
  {
   "cell_type": "markdown",
   "id": "5771303e-4287-44bd-a530-4cca86100c55",
   "metadata": {},
   "source": [
    "Above we can see the top 5 most stable features, which they self are very unstable. When looking at the top counts for how many times a given feature is selected it varies quite a bit, which probably is the driving factor for the results we are seeing."
   ]
  }
 ],
 "metadata": {
  "kernelspec": {
   "display_name": "Python 3",
   "language": "python",
   "name": "python3"
  },
  "language_info": {
   "codemirror_mode": {
    "name": "ipython",
    "version": 3
   },
   "file_extension": ".py",
   "mimetype": "text/x-python",
   "name": "python",
   "nbconvert_exporter": "python",
   "pygments_lexer": "ipython3",
   "version": "3.8.10"
  }
 },
 "nbformat": 4,
 "nbformat_minor": 5
}
