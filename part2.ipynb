{
 "cells": [
  {
   "cell_type": "code",
   "execution_count": 15,
   "id": "5b5a49df-c57a-4f72-9343-ad14253ce1bb",
   "metadata": {},
   "outputs": [],
   "source": [
    "import matplotlib.pyplot as plt\n",
    "import numpy as np\n",
    "import pandas as pd\n",
    "\n",
    "from typing import Tuple\n",
    "from sklearn import preprocessing"
   ]
  },
  {
   "cell_type": "code",
   "execution_count": 43,
   "id": "fa77eea4-313e-4e78-8af0-e406fc03a4f1",
   "metadata": {},
   "outputs": [],
   "source": [
    "def load_data() -> Tuple[np.ndarray, np.ndarray]:\n",
    "    data = pd.read_csv(\"./data/data.csv\").drop([\"Unnamed: 0\"], axis=1)\n",
    "    labels = pd.read_csv(\"./data/labels.csv\")[\"Class\"]\n",
    "        \n",
    "    # Encodes string labels as ints\n",
    "    le = preprocessing.LabelEncoder()\n",
    "    y = le.fit_transform(labels)\n",
    "    \n",
    "    return data.to_numpy(), y\n",
    "X, y = load_data()"
   ]
  },
  {
   "cell_type": "markdown",
   "id": "841e1758-633a-4c7f-8794-9519de809f0b",
   "metadata": {},
   "source": [
    "# First feature reduction to reduce run time"
   ]
  },
  {
   "cell_type": "code",
   "execution_count": 81,
   "id": "345013f2-4673-4a36-9350-b687a61f21d3",
   "metadata": {},
   "outputs": [],
   "source": [
    "from sklearn.feature_selection import VarianceThreshold, SelectKBest, f_classif\n",
    "\n",
    "# Dropping the constant features\n",
    "X_nonconst = VarianceThreshold().fit_transform(X)\n",
    "\n",
    "# Doing feature selection by choosing the k features with the largest F-statistic\n",
    "k = 200\n",
    "X_fstat = SelectKBest(score_func=f_classif, k=k).fit_transform(X_nonconst, y)"
   ]
  },
  {
   "cell_type": "markdown",
   "id": "8b57059f-0d55-4ac8-9b4c-e9df77cc03ee",
   "metadata": {},
   "source": [
    "# Feature selection using multi-class logistic regression"
   ]
  },
  {
   "cell_type": "code",
   "execution_count": 200,
   "id": "fdbff9d3-702c-4e3a-98f0-73eef12371ab",
   "metadata": {},
   "outputs": [],
   "source": [
    "from sklearn.linear_model import LogisticRegressionCV\n",
    "from sklearn.model_selection import StratifiedKFold\n",
    "from sklearn.metrics import f1_score\n",
    "\n",
    "def cross_validate(n_folds, C_list, X, y):\n",
    "    \"\"\"\n",
    "    Cross-validates the parameter values in C_list and\n",
    "    returns a numpy.ndarray where the first index corresponds to the\n",
    "    different values in C_list and the columns correspond\n",
    "    to the different folds. Each of the elements has the balanced\n",
    "    accuracy score for a given parameter value adn fold.\n",
    "    \"\"\"\n",
    "    score_matrix = np.zeros((len(C_list), n_folds))\n",
    "    skf = StratifiedKFold(n_splits=n_folds)\n",
    "    ix = 0\n",
    "    for train_idx, test_idx in skf.split(X, y):\n",
    "        X_train, X_test = X[train_idx], X[test_idx]\n",
    "        y_train, y_test = y[train_idx], y[test_idx]\n",
    "        \n",
    "        jx = 0\n",
    "        for val in C_list:\n",
    "            mdl = LogisticRegression(C=val,\n",
    "                                    multi_class='ovr', \n",
    "                                    solver='liblinear',\n",
    "                                    intercept_scaling=10000).fit(X_train, y_train)\n",
    "            y_pred = mdl.predict(X_test)\n",
    "            score_matrix[jx, ix] = f1_score(y_test, y_pred, average=\"weighted\")\n",
    "            \n",
    "            jx += 1\n",
    "        ix += 1\n",
    "        \n",
    "    return score_matrix"
   ]
  },
  {
   "cell_type": "code",
   "execution_count": 204,
   "id": "e27c888e-8810-4184-8836-956cb63b6e93",
   "metadata": {},
   "outputs": [],
   "source": [
    "n_folds = 10\n",
    "c_list = np.logspace(-4, 0, 100)\n",
    "\n",
    "score_matrix = cross_validate(n_folds, c_list, X_fstat, y)\n",
    "cv_mean = np.mean(score_matrix, axis=1)\n",
    "cv_std = np.std(score_matrix, axis=1)\n",
    "idx_max_mean = np.argmax( cv_mean )\n",
    "c_max = c_list[idx_max_mean]\n",
    "idx_c_1se = np.where(\n",
    "    (cv_mean >= cv_mean[idx_max_mean] - cv_std[idx_max_mean] / np.sqrt(n_folds)) &\n",
    "    (cv_mean <= cv_mean[idx_max_mean])\n",
    ")[0][0]\n",
    "c_1se = c_list[idx_c_1se]"
   ]
  },
  {
   "cell_type": "code",
   "execution_count": 206,
   "id": "cd8a3081-1fb7-40f9-95d7-33bcec687cf6",
   "metadata": {},
   "outputs": [
    {
     "data": {
      "text/plain": [
       "0.009545484566618348"
      ]
     },
     "execution_count": 206,
     "metadata": {},
     "output_type": "execute_result"
    }
   ],
   "source": [
    "c_max"
   ]
  },
  {
   "cell_type": "markdown",
   "id": "594a8c52-b6ae-41ee-b938-788893845972",
   "metadata": {},
   "source": [
    "# Gaining confidence in feature selection thorugh bootstrap"
   ]
  },
  {
   "cell_type": "code",
   "execution_count": 224,
   "id": "b9b54323-6a7a-4323-8398-8de348a09ff6",
   "metadata": {},
   "outputs": [],
   "source": [
    "from sklearn.linear_model import LogisticRegression\n",
    "\n",
    "n_bootstrap_samples = 100\n",
    "sample_size = 150\n",
    "zero_tol = 0.0001\n",
    "\n",
    "# Creating bootstrap sample and records how often a given feature is \n",
    "# selected in the LogisticRegression for c_max.\n",
    "selected_feature_counters = { \n",
    "    0: np.zeros(k),\n",
    "    1: np.zeros(k),\n",
    "    2: np.zeros(k),\n",
    "    3: np.zeros(k),\n",
    "    4: np.zeros(k),\n",
    "}\n",
    "for ix in range(n_bootstrap_samples):\n",
    "    idx_list = np.random.choice(X_fstat.shape[1], sample_size, replace=False)\n",
    "    X_bootstrap = X_fstat[:,idx_list]\n",
    "    beta = LogisticRegression(C=c_max,\n",
    "                             multi_class='ovr', \n",
    "                             solver='liblinear',\n",
    "                             intercept_scaling=10000).fit(X_bootstrap, y).coef_\n",
    "    \n",
    "    # Assumes that the beta arrays for the differen\n",
    "    # classes comes in the same order, and calculates\n",
    "    # the frequency with which every frequency is present\n",
    "    jx = 0\n",
    "    for class_beta in beta:\n",
    "        non_zero_idx = np.where( class_beta > zero_tol )\n",
    "        non_zero_feature_idx = idx_list[non_zero_idx]\n",
    "        for idx in non_zero_feature_idx:\n",
    "            selected_feature_counters[jx][idx] += 1\n",
    "        jx += 1"
   ]
  },
  {
   "cell_type": "code",
   "execution_count": 227,
   "id": "a49dd8c4-5652-4740-8095-854a1a5e1794",
   "metadata": {},
   "outputs": [
    {
     "data": {
      "image/png": "[encoded data removed]",
      "text/plain": [
       "<Figure size 432x288 with 5 Axes>"
      ]
     },
     "metadata": {
      "needs_background": "light"
     },
     "output_type": "display_data"
    }
   ],
   "source": [
    "fig, (ax1, ax2, ax3, ax4, ax5) = plt.subplots(5, 1, sharex=True)\n",
    "ax1.bar(range(200), selected_feature_counters[0])\n",
    "ax1.set_title(\"feature 1\")\n",
    "\n",
    "ax2.bar(range(200), selected_feature_counters[1])\n",
    "ax2.set_title(\"feature 2\")\n",
    "\n",
    "ax3.bar(range(200), selected_feature_counters[2])\n",
    "ax3.set_title(\"feature 3\")\n",
    "\n",
    "ax4.bar(range(200), selected_feature_counters[3])\n",
    "ax4.set_title(\"feature 4\")\n",
    "\n",
    "ax5.bar(range(200), selected_feature_counters[4])    \n",
    "ax5.set_title(\"feature 5\")\n",
    "\n",
    "fig.tight_layout()"
   ]
  },
  {
   "cell_type": "markdown",
   "id": "8f4f7f73-5509-4390-af38-a24ed7a3fce5",
   "metadata": {},
   "source": [
    "## Selection stability"
   ]
  }
 ],
 "metadata": {
  "kernelspec": {
   "display_name": "Python 3",
   "language": "python",
   "name": "python3"
  },
  "language_info": {
   "codemirror_mode": {
    "name": "ipython",
    "version": 3
   },
   "file_extension": ".py",
   "mimetype": "text/x-python",
   "name": "python",
   "nbconvert_exporter": "python",
   "pygments_lexer": "ipython3",
   "version": "3.8.10"
  }
 },
 "nbformat": 4,
 "nbformat_minor": 5
}
