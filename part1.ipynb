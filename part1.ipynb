{
 "cells": [
  {
   "cell_type": "markdown",
   "id": "1152107a-bdc8-4702-8480-69a012fe3ec1",
   "metadata": {},
   "source": [
    "# Part 1"
   ]
  },
  {
   "cell_type": "code",
   "execution_count": 42,
   "id": "835f8668-ccee-491d-997b-ad24939e52ab",
   "metadata": {},
   "outputs": [],
   "source": [
    "import numpy as np\n",
    "import json\n",
    "import sys\n",
    "\n",
    "from sklearn.linear_model import Lasso, LassoCV\n",
    "from sklearn.model_selection import train_test_split\n",
    "from sklearn.metrics import mean_squared_error as mse"
   ]
  },
  {
   "cell_type": "code",
   "execution_count": 3,
   "id": "fb34a058-2712-4eea-b7ff-a91e670470d1",
   "metadata": {},
   "outputs": [],
   "source": [
    "def simulate_lasso_data(n, p, rng, *, sparsity=0.95, SNR=2.0, beta_scale=5.0):\n",
    "    \"\"\"Simulate data for Project 3, Part 1.\n",
    "\n",
    "    Parameters\n",
    "    ----------\n",
    "    n : int\n",
    "        Number of samples\n",
    "    p : int\n",
    "        Number of features\n",
    "    rng : numpy.random.Generator\n",
    "        Random number generator (e.g. from `numpy.random.default_rng`)\n",
    "    sparsity : float in (0, 1)\n",
    "        Percentage of zero elements in simulated regression coefficients\n",
    "    SNR : positive float\n",
    "        Signal-to-noise ratio (see explanation above)\n",
    "    beta_scale : float\n",
    "        Scaling for the coefficient to make sure they are large\n",
    "\n",
    "    Returns\n",
    "    -------\n",
    "    X : `n x p` numpy.array\n",
    "        Matrix of features\n",
    "    y : `n` numpy.array\n",
    "        Vector of responses\n",
    "    beta : `p` numpy.array\n",
    "        Vector of regression coefficients\n",
    "    \"\"\"\n",
    "    X = rng.standard_normal(size=(n, p))\n",
    "    \n",
    "    q = int(np.ceil((1.0 - sparsity) * p))\n",
    "    beta = np.zeros((p,), dtype=float)\n",
    "    beta[:q] = beta_scale * rng.standard_normal(size=(q,))\n",
    "    \n",
    "    sigma = np.sqrt(np.sum(np.square(X @ beta)) / (n - 1)) / SNR\n",
    "\n",
    "    y = X @ beta + sigma * rng.standard_normal(size=(n,))\n",
    "\n",
    "    # Shuffle columns so that non-zero features appear\n",
    "    # not simply in the first (1 - sparsity) * p columns\n",
    "    idx_col = rng.permutation(p)\n",
    "    \n",
    "    return X[:, idx_col], y, beta[idx_col]"
   ]
  },
  {
   "cell_type": "code",
   "execution_count": 58,
   "id": "f3c02cc7-f062-4db7-8ea6-f3802062c78e",
   "metadata": {},
   "outputs": [
    {
     "name": "stdout",
     "output_type": "stream",
     "text": [
      "N=250\n",
      "Generating data..\n",
      "Running lasso regression..\n",
      "Generating data..\n",
      "Running lasso regression..\n",
      "Generating data..\n",
      "Running lasso regression..\n",
      "Generating data..\n",
      "Running lasso regression..\n",
      "N=500\n",
      "Generating data..\n",
      "Running lasso regression..\n",
      "Generating data..\n",
      "Running lasso regression..\n",
      "Generating data..\n",
      "Running lasso regression..\n",
      "Generating data..\n",
      "Running lasso regression..\n",
      "N=750\n",
      "Generating data..\n",
      "Running lasso regression..\n",
      "Generating data..\n",
      "Running lasso regression..\n",
      "Generating data..\n",
      "Running lasso regression..\n",
      "Generating data..\n",
      "Running lasso regression..\n"
     ]
    }
   ],
   "source": [
    "n_simulations = 5\n",
    "n_features = 1000\n",
    "n_folds = 10\n",
    "n_observations = [250, 500, 750]\n",
    "test_observations = 300\n",
    "sparsity_values = [0.75, 0.9, 0.95, 0.99]\n",
    "rng = np.random.default_rng()\n",
    "\n",
    "results = {}\n",
    "for N in n_observations:\n",
    "    print(f\"N={N}\")\n",
    "    results[f\"N={N}\"] = {}\n",
    "    for sparsity in sparsity_values:\n",
    "        # Generates data\n",
    "        print(\"Generating data..\")\n",
    "        X, y, beta = simulate_lasso_data(N+test_observations, n_features, rng, sparsity=sparsity)\n",
    "        \n",
    "        # Initialises lists where to store \n",
    "        # the results\n",
    "        alpha_min_mse = np.zeros(n_simulations)\n",
    "        alpha_1se_mse = np.zeros(n_simulations)\n",
    "        coeffs_min = []\n",
    "        coeffs_1se = []\n",
    "        \n",
    "        print(\"Running lasso regression..\")\n",
    "        for ix in range(n_simulations):            \n",
    "            # Splits data into train and test set. Note that same data is used for\n",
    "            # each iter in n_simulations, this is to speed up.\n",
    "            X_train, X_test, y_train, y_test = train_test_split(X, y, test_size=test_observations/(N+test_observations))\n",
    "                \n",
    "            # Fits the model and calculates the score based on the\n",
    "            # training data\n",
    "            lasso = LassoCV(cv=n_folds, random_state=0).fit(X_train,y_train)\n",
    "            coeffs_min.append(lasso.coef_)\n",
    "            alpha_min_mse[ix] = mse(y_test, lasso.predict(X_test))\n",
    "            \n",
    "            # Finds the alpha_1se, i.e. the larges alpha that produces\n",
    "            # MSE within one std of the mean MSE for alpha_min\n",
    "            cv_mean = np.mean(lasso.mse_path_, axis=1)\n",
    "            cv_std = np.std(lasso.mse_path_, axis=1)\n",
    "            idx_min_mean = np.argmin(cv_mean)\n",
    "            idx_alpha = np.where(\n",
    "                (cv_mean <= cv_mean[idx_min_mean] + cv_std[idx_min_mean] / np.sqrt(n_folds)) &\n",
    "                (cv_mean >= cv_mean[idx_min_mean])\n",
    "            )[0][0]\n",
    "            alpha_1se = lasso.alphas_[idx_alpha]\n",
    "                        \n",
    "            # Refits model to the new alpha and computes the score based on\n",
    "            # based on the training data\n",
    "            lasso = Lasso(alpha=alpha_1se).fit(X_train, y_train)\n",
    "            coeffs_1se.append(lasso.coef_)\n",
    "            alpha_1se_mse[ix] = mse(y_test, lasso.predict(X_test))\n",
    "            \n",
    "        results[f\"N={N}\"][f\"SPRSTY={sparsity}\"] = {\n",
    "            \"min_alpha_mse_mean\": np.mean(alpha_min_mse),\n",
    "            \"min_alpha_mse_std\": np.std(alpha_min_mse),\n",
    "            \"1se_alpha_mse_mean\": np.mean(alpha_1se_mse),\n",
    "            \"1se_alpha_mse_std\": np.std(alpha_1se_mse),\n",
    "            \"min_coeffs\": coeffs_min,\n",
    "            \"1se_coeffs\": coeffs_1se,\n",
    "            \"beta\": beta,\n",
    "        }"
   ]
  },
  {
   "cell_type": "code",
   "execution_count": 69,
   "id": "8706a9d3-29e6-4ac6-a803-c70788d397ba",
   "metadata": {},
   "outputs": [
    {
     "data": {
      "text/plain": [
       "<matplotlib.legend.Legend at 0x7f44ad49bf70>"
      ]
     },
     "execution_count": 69,
     "metadata": {},
     "output_type": "execute_result"
    },
    {
     "data": {
      "image/png": "[encoded data removed]",
      "text/plain": [
       "<Figure size 432x288 with 1 Axes>"
      ]
     },
     "metadata": {
      "needs_background": "light"
     },
     "output_type": "display_data"
    }
   ],
   "source": [
    "import matplotlib.pyplot as plt\n",
    "\n",
    "# Plotting alpha_min and alpha_1se vs number of observations\n",
    "# for a given sparsity\n",
    "sparcity = 0.99\n",
    "alpha_min_mse_mean_list = []\n",
    "alpha_1se_mse_mean_list = []\n",
    "alpha_min_mse_std_list = []\n",
    "alpha_1se_mse_std_list = []\n",
    "for N in n_observations:\n",
    "    alpha_min_mse_mean_list.append(results[f\"N={N}\"][f\"SPRSTY={sparsity}\"][\"min_alpha_mse_mean\"])\n",
    "    alpha_1se_mse_mean_list.append(results[f\"N={N}\"][f\"SPRSTY={sparsity}\"][\"1se_alpha_mse_mean\"])\n",
    "    alpha_min_mse_std_list.append(results[f\"N={N}\"][f\"SPRSTY={sparsity}\"][\"min_alpha_mse_std\"])\n",
    "    alpha_1se_mse_std_list.append(results[f\"N={N}\"][f\"SPRSTY={sparsity}\"][\"1se_alpha_mse_std\"])\n",
    "plt.plot(n_observations, alpha_min_mse_mean_list)\n",
    "#plt.errorbar(n_observations, alpha_min_mse_mean_list, yerr=alpha_min_mse_std_list, xerr=None)\n",
    "plt.plot(n_observations, alpha_1se_mse_mean_list)\n",
    "#plt.errorbar(n_observations, alpha_1se_mse_mean_list, yerr=alpha_1se_mse_std_list, xerr=None)\n",
    "plt.legend([\"lambda_min\", \"lambda_1se\"])"
   ]
  }
 ],
 "metadata": {
  "kernelspec": {
   "display_name": "Python 3",
   "language": "python",
   "name": "python3"
  },
  "language_info": {
   "codemirror_mode": {
    "name": "ipython",
    "version": 3
   },
   "file_extension": ".py",
   "mimetype": "text/x-python",
   "name": "python",
   "nbconvert_exporter": "python",
   "pygments_lexer": "ipython3",
   "version": "3.8.10"
  }
 },
 "nbformat": 4,
 "nbformat_minor": 5
}
